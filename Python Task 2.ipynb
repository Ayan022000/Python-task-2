{
 "cells": [
  {
   "cell_type": "markdown",
   "id": "3dbc949c",
   "metadata": {},
   "source": [
    "# Q 1."
   ]
  },
  {
   "cell_type": "markdown",
   "id": "141b42a6",
   "metadata": {},
   "source": [
    "# You are writing code for a company. The requirement of the company is that you create a python function that will check whether the password entered by the user is correct or not. The function should take the password as input and return the string “Valid Password” if the entered password follows the below-given password guidelines else it should return “Invalid Password”. Note: 1. The Password should contain at least two uppercase letters and at least two lowercase letters. 2. The Password should contain at least a number and three special characters. 3. The length of the password should be 10 characters long."
   ]
  },
  {
   "cell_type": "code",
   "execution_count": 1,
   "id": "8f936bf8",
   "metadata": {},
   "outputs": [],
   "source": [
    "import re\n",
    "\n",
    "def check_password(password):\n",
    "    # check length of password\n",
    "    if len(password) != 10:\n",
    "        return \"Invalid Password\"\n",
    "    \n",
    "    # check for uppercase letters\n",
    "    if len(re.findall(r'[A-Z]', password)) < 2:\n",
    "        return \"Invalid Password\"\n",
    "    \n",
    "    # check for lowercase letters\n",
    "    if len(re.findall(r'[a-z]', password)) < 2:\n",
    "        return \"Invalid Password\"\n",
    "    \n",
    "    # check for digits\n",
    "    if len(re.findall(r'\\d', password)) < 1:\n",
    "        return \"Invalid Password\"\n",
    "    \n",
    "    # check for special characters\n",
    "    if len(re.findall(r'[!@#$%^&*(),.?\":{}|<>]', password)) < 3:\n",
    "        return \"Invalid Password\"\n",
    "    \n",
    "    # if all checks pass, return \"Valid Password\"\n",
    "    return \"Valid Password\""
   ]
  },
  {
   "cell_type": "code",
   "execution_count": 2,
   "id": "f10daea6",
   "metadata": {},
   "outputs": [
    {
     "data": {
      "text/plain": [
       "'Invalid Password'"
      ]
     },
     "execution_count": 2,
     "metadata": {},
     "output_type": "execute_result"
    }
   ],
   "source": [
    "check_password(\"Hello1234\")"
   ]
  },
  {
   "cell_type": "code",
   "execution_count": 3,
   "id": "9a8b6865",
   "metadata": {},
   "outputs": [
    {
     "data": {
      "text/plain": [
       "'Valid Password'"
      ]
     },
     "execution_count": 3,
     "metadata": {},
     "output_type": "execute_result"
    }
   ],
   "source": [
    "check_password(\"HT1@#$23jk\")"
   ]
  },
  {
   "cell_type": "markdown",
   "id": "4b0b3b46",
   "metadata": {},
   "source": [
    "# Q 2."
   ]
  },
  {
   "cell_type": "markdown",
   "id": "af177830",
   "metadata": {},
   "source": [
    "# Solve the below-given questions using at least one of the following:\n",
    "# 1. Lambda functioJ\n",
    "# 2. Filter functioJ\n",
    "# 3. Zap functioJ\n",
    "# 4. List ComprehensioI"
   ]
  },
  {
   "cell_type": "markdown",
   "id": "4c826fd5",
   "metadata": {},
   "source": [
    "Check if the string starts with a particular letter."
   ]
  },
  {
   "cell_type": "code",
   "execution_count": 4,
   "id": "1d4fa117",
   "metadata": {},
   "outputs": [
    {
     "name": "stdout",
     "output_type": "stream",
     "text": [
      "Wrong\n"
     ]
    }
   ],
   "source": [
    "str1 = \"Hello World\"\n",
    "if str1[0]==\"y\":\n",
    "    print(\"Right\")\n",
    "else:\n",
    "    print(\"Wrong\")"
   ]
  },
  {
   "cell_type": "markdown",
   "id": "b3683a31",
   "metadata": {},
   "source": [
    "Check if the string is numeric."
   ]
  },
  {
   "cell_type": "code",
   "execution_count": 5,
   "id": "b758e953",
   "metadata": {},
   "outputs": [
    {
     "data": {
      "text/plain": [
       "True"
      ]
     },
     "execution_count": 5,
     "metadata": {},
     "output_type": "execute_result"
    }
   ],
   "source": [
    "str2= \"12345\"\n",
    "str2.isnumeric()"
   ]
  },
  {
   "cell_type": "markdown",
   "id": "5aba4f50",
   "metadata": {},
   "source": [
    "Sort a list of tuples having fruit names and their quantity. [(\"mango\",99),(\"orange\",80), (\"grapes\", 1000)]"
   ]
  },
  {
   "cell_type": "code",
   "execution_count": 6,
   "id": "a5d93b67",
   "metadata": {},
   "outputs": [
    {
     "name": "stdout",
     "output_type": "stream",
     "text": [
      "[('orange', 80), ('mango', 99), ('grapes', 1000)]\n"
     ]
    }
   ],
   "source": [
    "fruits = [(\"mango\", 99), (\"orange\", 80), (\"grapes\", 1000)]\n",
    "\n",
    "sorted_fruits = sorted(fruits, key=lambda x: x[1])\n",
    "\n",
    "print(sorted_fruits)"
   ]
  },
  {
   "cell_type": "markdown",
   "id": "62c7628d",
   "metadata": {},
   "source": [
    "Find the squares of numbers from 1 to 10Y"
   ]
  },
  {
   "cell_type": "code",
   "execution_count": 7,
   "id": "21469eb8",
   "metadata": {},
   "outputs": [
    {
     "data": {
      "text/plain": [
       "[1, 4, 9, 16, 25, 36, 49, 64, 81, 100]"
      ]
     },
     "execution_count": 7,
     "metadata": {},
     "output_type": "execute_result"
    }
   ],
   "source": [
    "list(map(lambda x : x**2,range(1,11)))"
   ]
  },
  {
   "cell_type": "markdown",
   "id": "fa14ade2",
   "metadata": {},
   "source": [
    "Find the cube root of numbers from 1 to 10."
   ]
  },
  {
   "cell_type": "code",
   "execution_count": 8,
   "id": "6e499116",
   "metadata": {},
   "outputs": [
    {
     "data": {
      "text/plain": [
       "[1.0,\n",
       " 1.2599210498948732,\n",
       " 1.4422495703074083,\n",
       " 1.5874010519681994,\n",
       " 1.7099759466766968,\n",
       " 1.8171205928321397,\n",
       " 1.912931182772389,\n",
       " 2.0,\n",
       " 2.080083823051904,\n",
       " 2.154434690031884]"
      ]
     },
     "execution_count": 8,
     "metadata": {},
     "output_type": "execute_result"
    }
   ],
   "source": [
    "list(map(lambda x : x**(1/3),range(1,11)))"
   ]
  },
  {
   "cell_type": "markdown",
   "id": "fc23a2fa",
   "metadata": {},
   "source": [
    "Check if a given number is even."
   ]
  },
  {
   "cell_type": "code",
   "execution_count": 9,
   "id": "534bbbe8",
   "metadata": {},
   "outputs": [
    {
     "name": "stdout",
     "output_type": "stream",
     "text": [
      "Enter a number : 12\n",
      "even\n"
     ]
    }
   ],
   "source": [
    "x= int(input(\"Enter a number : \"))\n",
    "if x%2 ==0 :\n",
    "    print(\"even\")"
   ]
  },
  {
   "cell_type": "markdown",
   "id": "4b8e5efd",
   "metadata": {},
   "source": [
    "Filter odd numbers from the given list."
   ]
  },
  {
   "cell_type": "code",
   "execution_count": 10,
   "id": "373c2f91",
   "metadata": {},
   "outputs": [
    {
     "data": {
      "text/plain": [
       "[1, 3, 5, 7, 9]"
      ]
     },
     "execution_count": 10,
     "metadata": {},
     "output_type": "execute_result"
    }
   ],
   "source": [
    "l = [1,2,3,4,5,6,7,8,9,10]\n",
    "list(filter(lambda x : x%2 != 0, l))"
   ]
  },
  {
   "cell_type": "markdown",
   "id": "2e1df815",
   "metadata": {},
   "source": [
    "Sort a list of integers into positive and negative integers lists."
   ]
  },
  {
   "cell_type": "code",
   "execution_count": 13,
   "id": "38acf7cd",
   "metadata": {},
   "outputs": [
    {
     "name": "stdout",
     "output_type": "stream",
     "text": [
      "positive int list : [-1, -2, -3, -4, -5]\n",
      "negative int list : [1, 2, 3, 4, 5, 6]\n"
     ]
    }
   ],
   "source": [
    "t =[1,2,3,4,5,6,-1,-2,-3,-4,-5,0]\n",
    "p=[]\n",
    "n=[]\n",
    "for i in t:\n",
    "    if i<0:\n",
    "        n.append(i)\n",
    "    if i>0:\n",
    "        p.append(i)\n",
    "print(\"positive int list :\",n)\n",
    "print(\"negative int list :\",p)"
   ]
  }
 ],
 "metadata": {
  "kernelspec": {
   "display_name": "Python 3 (ipykernel)",
   "language": "python",
   "name": "python3"
  },
  "language_info": {
   "codemirror_mode": {
    "name": "ipython",
    "version": 3
   },
   "file_extension": ".py",
   "mimetype": "text/x-python",
   "name": "python",
   "nbconvert_exporter": "python",
   "pygments_lexer": "ipython3",
   "version": "3.9.13"
  }
 },
 "nbformat": 4,
 "nbformat_minor": 5
}
